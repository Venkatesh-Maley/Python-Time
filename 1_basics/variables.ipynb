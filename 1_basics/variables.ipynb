{
 "cells": [
  {
   "cell_type": "markdown",
   "id": "312c4f89",
   "metadata": {},
   "source": [
    "VARIABLES IN PYTHON\n",
    "Definition:\n",
    "Python Variable is containers that store values.\n",
    "\n",
    "Important points: \n",
    "-Python is not “statically typed”. We do not need to declare variables before using them or declare their type.\n",
    "-A Python variable is a name given to a memory location. It is the basic unit of storage in a program.\n",
    "-An Example of a Variable in Python is a representational name that serves as a pointer to an object. Once an object is assigned to a variable, it can be referred to by that name.\n",
    "-In layman’s terms, we can say that Variable in Python is containers that store values.\n",
    "\n",
    "Rules:\n",
    "-A Python variable name must start with a letter or the underscore character.\n",
    "-A Python variable name cannot start with a number.\n",
    "-A Python variable name can only contain alpha-numeric characters and underscores (A-z, 0-9, and _ ).\n",
    "-Variable in Python names are case-sensitive (name, Name, and NAME are three different variables).\n",
    "-The reserved words(keywords) in Python cannot be used to name the variable in Python."
   ]
  },
  {
   "cell_type": "code",
   "execution_count": 2,
   "id": "57efabfd",
   "metadata": {
    "scrolled": true
   },
   "outputs": [
    {
     "name": "stdout",
     "output_type": "stream",
     "text": [
      "Venky\n"
     ]
    }
   ],
   "source": [
    "name = \"Venky\"\n",
    "print(name)"
   ]
  },
  {
   "cell_type": "code",
   "execution_count": 3,
   "id": "fd2e73f4",
   "metadata": {},
   "outputs": [
    {
     "name": "stdout",
     "output_type": "stream",
     "text": [
      "1 2 3\n",
      "4 5 6\n"
     ]
    }
   ],
   "source": [
    "# Valid Variables name\n",
    "\n",
    "num = 1\n",
    "Num = 2\n",
    "Nu_m = 3\n",
    "_num = 4\n",
    "num_ = 5\n",
    "_NUM_ = 6\n",
    "\n",
    "print(num, Num, Nu_m)\n",
    "print(_num, num_, _NUM_)"
   ]
  },
  {
   "cell_type": "code",
   "execution_count": 4,
   "id": "9dda84a5",
   "metadata": {},
   "outputs": [
    {
     "name": "stdout",
     "output_type": "stream",
     "text": [
      "20 3.6 Venky\n"
     ]
    }
   ],
   "source": [
    "#Variables Assignment in Python\n",
    "\n",
    "age = 20       #An integer \n",
    "salary = 3.6   #A Floating Point\n",
    "name = \"Venky\" #A String\n",
    "\n",
    "print(age, salary, name)"
   ]
  },
  {
   "cell_type": "code",
   "execution_count": 5,
   "id": "edf50cf4",
   "metadata": {},
   "outputs": [
    {
     "name": "stdout",
     "output_type": "stream",
     "text": [
      "Before Declare: 100\n",
      "After Re-Declaring: 120.3\n"
     ]
    }
   ],
   "source": [
    "#Declaring and Redeclaring Variables in Python\n",
    "\n",
    "Num = 100\n",
    "print(\"Before Declare:\", Num)\n",
    "\n",
    "Num = 120.3\n",
    "print(\"After Re-Declaring:\",Num)"
   ]
  },
  {
   "cell_type": "code",
   "execution_count": 10,
   "id": "03f916d0",
   "metadata": {},
   "outputs": [
    {
     "name": "stdout",
     "output_type": "stream",
     "text": [
      "10 10 10\n",
      "10 9.3 Venky\n"
     ]
    }
   ],
   "source": [
    "#Assign Values to Multiple Variables\n",
    "\n",
    "a = b = c = 10\n",
    "print(a, b, c)\n",
    "\n",
    "#Assiging different values to multiple variables\n",
    "\n",
    "a, b, c = 10, 9.3, \"Venky\"\n",
    "print(a, b, c)"
   ]
  },
  {
   "cell_type": "code",
   "execution_count": 19,
   "id": "8558b8aa",
   "metadata": {},
   "outputs": [
    {
     "name": "stdout",
     "output_type": "stream",
     "text": [
      "The list of keywords is : \n",
      "['False', 'None', 'True', 'and', 'as', 'assert', 'break', 'class', 'continue', 'def', 'del', 'elif', 'else', 'except', 'finally', 'for', 'from', 'global', 'if', 'import', 'in', 'is', 'lambda', 'nonlocal', 'not', 'or', 'pass', 'raise', 'return', 'try', 'while', 'with', 'yield']\n",
      "33\n"
     ]
    }
   ],
   "source": [
    "# printing all keywords at once using \"kwlist()\"\n",
    "\n",
    "import keyword\n",
    " \n",
    "print(\"The list of keywords is : \")\n",
    "print(keyword.kwlist)\n",
    "\n",
    "# Total Number of Keywords\n",
    "\n",
    "keywords_list = keyword.kwlist\n",
    "Total_keywords = len(keywords_list)\n",
    "\n",
    "print(Total_keywords)"
   ]
  },
  {
   "cell_type": "code",
   "execution_count": null,
   "id": "cda4b99e",
   "metadata": {},
   "outputs": [],
   "source": []
  }
 ],
 "metadata": {
  "kernelspec": {
   "display_name": "Python 3",
   "language": "python",
   "name": "python3"
  },
  "language_info": {
   "codemirror_mode": {
    "name": "ipython",
    "version": 3
   },
   "file_extension": ".py",
   "mimetype": "text/x-python",
   "name": "python",
   "nbconvert_exporter": "python",
   "pygments_lexer": "ipython3",
   "version": "3.6.9"
  }
 },
 "nbformat": 4,
 "nbformat_minor": 5
}
