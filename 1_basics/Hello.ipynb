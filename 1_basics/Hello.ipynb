{
 "cells": [
  {
   "cell_type": "markdown",
   "id": "fd7a062b",
   "metadata": {},
   "source": [
    "Printing Hello World in python3"
   ]
  },
  {
   "cell_type": "code",
   "execution_count": 1,
   "id": "35dfc823",
   "metadata": {},
   "outputs": [
    {
     "name": "stdout",
     "output_type": "stream",
     "text": [
      "Hello World\n",
      "print(\"What to Print\")\n",
      "print('What to Print')\n"
     ]
    }
   ],
   "source": [
    "print(\"Hello World\")\n",
    "\n",
    "print('print(\"What to Print\")')\n",
    "print(\"print('What to Print')\")"
   ]
  },
  {
   "cell_type": "code",
   "execution_count": 6,
   "id": "c59223d8",
   "metadata": {},
   "outputs": [
    {
     "name": "stdout",
     "output_type": "stream",
     "text": [
      "venky's laptop\n",
      "Venky \"Laptop\"\n",
      "Venky's \"Laptop\"\n"
     ]
    }
   ],
   "source": [
    "print(\"venky's laptop\")\n",
    "print('Venky \"Laptop\"')\n",
    "print('Venky\\'s \"Laptop\"')"
   ]
  },
  {
   "cell_type": "code",
   "execution_count": 8,
   "id": "825f293e",
   "metadata": {},
   "outputs": [
    {
     "name": "stdout",
     "output_type": "stream",
     "text": [
      "Hello World \n",
      "Hello World \n",
      "Hello World\n",
      "HelloRKV\n",
      "Hello RKV\n"
     ]
    }
   ],
   "source": [
    "print(\"Hello World \\nHello World \\nHello World\")\n",
    "print(\"Hello\" + \"RKV\")\n",
    "print(\"Hello\" + \" \" + \"RKV\")"
   ]
  },
  {
   "cell_type": "code",
   "execution_count": null,
   "id": "df4af40c",
   "metadata": {},
   "outputs": [],
   "source": []
  }
 ],
 "metadata": {
  "kernelspec": {
   "display_name": "Python 3",
   "language": "python",
   "name": "python3"
  },
  "language_info": {
   "codemirror_mode": {
    "name": "ipython",
    "version": 3
   },
   "file_extension": ".py",
   "mimetype": "text/x-python",
   "name": "python",
   "nbconvert_exporter": "python",
   "pygments_lexer": "ipython3",
   "version": "3.6.9"
  }
 },
 "nbformat": 4,
 "nbformat_minor": 5
}
