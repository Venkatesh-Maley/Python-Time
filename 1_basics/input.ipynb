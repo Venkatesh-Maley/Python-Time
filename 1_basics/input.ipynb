{
 "cells": [
  {
   "cell_type": "markdown",
   "id": "1ab40e47",
   "metadata": {},
   "source": [
    "INPUT FUNCTION IN PYTHON\n",
    "input() function - used to take user input. By default, it returns the user input in form of a string.\n",
    "Syntax : input(prompt)"
   ]
  },
  {
   "cell_type": "code",
   "execution_count": 1,
   "id": "d9f69784",
   "metadata": {
    "scrolled": true
   },
   "outputs": [
    {
     "name": "stdout",
     "output_type": "stream",
     "text": [
      "What is your?: Venky\n",
      "Venky\n",
      "What is your Age?: 20\n",
      "20\n",
      "What is your CGPA in PUC?: 9.3\n",
      "9.3\n"
     ]
    }
   ],
   "source": [
    "# Taking input as string\n",
    "name = input(\"What is your?: \")\n",
    "print(name)\n",
    "\n",
    "# Taking input as int & Typecasting to int\n",
    "n = int(input(\"What is your Age?: \"))\n",
    "print(n)\n",
    "\n",
    "# Taking input as float & Typecasting to float\n",
    "cgpa = float(input(\"What is your CGPA in PUC?: \"))\n",
    "print(cgpa)\n"
   ]
  },
  {
   "cell_type": "code",
   "execution_count": 2,
   "id": "b06ad075",
   "metadata": {},
   "outputs": [
    {
     "name": "stdout",
     "output_type": "stream",
     "text": [
      "Please Enter Your Name: Venky\n",
      "Please Enter Your Age: 20\n",
      "Name & Age:  Venky 20\n"
     ]
    }
   ],
   "source": [
    "#Example 1: Taking the Name and Age of the user as input and printing it\n",
    "\n",
    "name = input(\"Please Enter Your Name: \")\n",
    "age = input(\"Please Enter Your Age: \")\n",
    "\n",
    "print(\"Name & Age: \", name, age)"
   ]
  },
  {
   "cell_type": "code",
   "execution_count": 1,
   "id": "add14851",
   "metadata": {},
   "outputs": [
    {
     "name": "stdout",
     "output_type": "stream",
     "text": [
      "Please Enter First Number: 4\n",
      "Please Enter Second Number: 6\n",
      "The sum of the two given numbers is 10 \n"
     ]
    }
   ],
   "source": [
    "#Example 2: Taking two integers from users and adding them\n",
    "\n",
    "num1 = int(input(\"Please Enter First Number: \"))\n",
    "num2 = int(input(\"Please Enter Second Number: \"))\n",
    "\n",
    "addition = num1 + num2\n",
    "\n",
    "print(\"The sum of the two given numbers is {} \".format(addition))\n",
    "\n",
    "#The format() method formats the specified value(s) and insert them inside the string's placeholder"
   ]
  },
  {
   "cell_type": "code",
   "execution_count": 5,
   "id": "23747518",
   "metadata": {},
   "outputs": [
    {
     "name": "stdout",
     "output_type": "stream",
     "text": [
      "Please Enter Elements of list1: 01234\n",
      "Please Enter Elements of list2: 56789\n",
      "['0', '1', '2', '3', '4', '5', '6', '7', '8', '9']\n"
     ]
    }
   ],
   "source": [
    "#Example 3: Taking Two lists as input and appending them\n",
    "\n",
    "list1 = list(input(\"Please Enter Elements of list1: \"))\n",
    "list2 = list(input(\"Please Enter Elements of list2: \"))\n",
    "\n",
    "#Appending list2 into list1 using .append function\n",
    "\n",
    "for i in list2:\n",
    "    list1.append(i)\n",
    "    \n",
    "print(list1)\n",
    "\n",
    "#The append() method appends an element to the end of the list. Syntax: list.append(element)"
   ]
  },
  {
   "cell_type": "markdown",
   "id": "f4c0f09f",
   "metadata": {},
   "source": []
  }
 ],
 "metadata": {
  "kernelspec": {
   "display_name": "Python 3",
   "language": "python",
   "name": "python3"
  },
  "language_info": {
   "codemirror_mode": {
    "name": "ipython",
    "version": 3
   },
   "file_extension": ".py",
   "mimetype": "text/x-python",
   "name": "python",
   "nbconvert_exporter": "python",
   "pygments_lexer": "ipython3",
   "version": "3.6.9"
  }
 },
 "nbformat": 4,
 "nbformat_minor": 5
}
