{
 "cells": [
  {
   "cell_type": "markdown",
   "id": "d36e9a32",
   "metadata": {},
   "source": [
    "COMMENTS IN PYTHON\n",
    "Definition:\n",
    "Comments in Python are the lines in the code that are ignored by the interpreter during the execution of the program.\n",
    "\n",
    "Types of Comments:\n",
    "1.Single line Comments\n",
    "2.Multiline Comments\n",
    "3.String Literals\n",
    "4.Docstring Comments\n",
    "\n"
   ]
  },
  {
   "cell_type": "code",
   "execution_count": 5,
   "id": "13cc8cb2",
   "metadata": {},
   "outputs": [
    {
     "name": "stdout",
     "output_type": "stream",
     "text": [
      "Hi Single Line Comments\n",
      "Hi Multiline Comments\n",
      "Hi String Literals - Single -line comments\n",
      "Hi String Literals - Multiline comments\n",
      "Hii Iam Docstring Comment\n"
     ]
    }
   ],
   "source": [
    "#1.Single line Comments\n",
    "\n",
    "# Print “Hi venky” to console \n",
    "print(\"Hi Single Line Comments\") \n",
    "\n",
    "#2.Multiline Comments\n",
    "\n",
    "# Python program to demonstrate \n",
    "# multiline comments \n",
    "print(\"Hi Multiline Comments\")\n",
    "\n",
    "#3.String Literals\n",
    "#3.(a) Single-line comments using string literals\n",
    "\n",
    "'This will be ignored by Python'\n",
    "print(\"Hi String Literals - Single -line comments\")\n",
    "\n",
    "#3.(b) Multiline comments using string literals\n",
    "\n",
    "\"\"\" Python program to demonstrate \n",
    "multiline comments\"\"\"\n",
    "print(\"Hi String Literals - Multiline comments\")\n",
    "\n",
    "\n",
    "#4.Docstring Comments\n",
    "\n",
    "def multiply(a, b): \n",
    "    \"\"\"Hii Iam Docstring Comment\"\"\"\n",
    "    return a*b \n",
    "\n",
    "# Print the docstring of multiply function \n",
    "print(multiply.__doc__) \n",
    "\n",
    "\n",
    "\n",
    "\n",
    "\n"
   ]
  }
 ],
 "metadata": {
  "kernelspec": {
   "display_name": "Python 3",
   "language": "python",
   "name": "python3"
  },
  "language_info": {
   "codemirror_mode": {
    "name": "ipython",
    "version": 3
   },
   "file_extension": ".py",
   "mimetype": "text/x-python",
   "name": "python",
   "nbconvert_exporter": "python",
   "pygments_lexer": "ipython3",
   "version": "3.6.9"
  }
 },
 "nbformat": 4,
 "nbformat_minor": 5
}
